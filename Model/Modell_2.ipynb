{
 "cells": [
  {
   "cell_type": "code",
   "execution_count": 1,
   "metadata": {},
   "outputs": [],
   "source": [
    "import pandas as pd \n",
    "import numpy as np\n",
    "from sklearn.linear_model import LogisticRegression\n",
    "import pickle\n",
    "from sklearn.preprocessing import OneHotEncoder"
   ]
  },
  {
   "cell_type": "code",
   "execution_count": 2,
   "metadata": {},
   "outputs": [
    {
     "name": "stderr",
     "output_type": "stream",
     "text": [
      "C:\\Users\\tyto4\\AppData\\Local\\Packages\\PythonSoftwareFoundation.Python.3.10_qbz5n2kfra8p0\\LocalCache\\local-packages\\Python310\\site-packages\\sklearn\\linear_model\\_sag.py:352: ConvergenceWarning: The max_iter was reached which means the coef_ did not converge\n",
      "  warnings.warn(\n"
     ]
    }
   ],
   "source": [
    "# read csv\n",
    "data = pd.read_csv(r\"..\\preprocessedData\\hdgesamt_seq.csv\", sep=\",\")\n",
    "# define X and y\n",
    "y = data['OPSlabel']\n",
    "X = data[['ICD','Geschlecht','OPS_Altergruppe','OPSprev']]\n",
    "# transform X to numeric value\n",
    "Encoder = OneHotEncoder(handle_unknown=\"ignore\")\n",
    "X_fit = Encoder.fit_transform(X)\n",
    "# logistic Regression model\n",
    "lr=LogisticRegression(solver = 'sag', C=10, penalty = 'l2')\n",
    "lr.fit(X_fit, y)\n",
    "# store Model\n",
    "filename = 'Seq_modell.pkl'\n",
    "pickle.dump(lr, open(filename, 'wb'))"
   ]
  }
 ],
 "metadata": {
  "kernelspec": {
   "display_name": "Python 3.10.8 64-bit (microsoft store)",
   "language": "python",
   "name": "python3"
  },
  "language_info": {
   "codemirror_mode": {
    "name": "ipython",
    "version": 3
   },
   "file_extension": ".py",
   "mimetype": "text/x-python",
   "name": "python",
   "nbconvert_exporter": "python",
   "pygments_lexer": "ipython3",
   "version": "3.10.10"
  },
  "orig_nbformat": 4,
  "vscode": {
   "interpreter": {
    "hash": "58e15c63a52ef4a1f4a6c82bef7b6b9fd0dd33ef33ca68076a24a2c0ba593e42"
   }
  }
 },
 "nbformat": 4,
 "nbformat_minor": 2
}
